{
 "cells": [
  {
   "cell_type": "code",
   "execution_count": 29,
   "metadata": {},
   "outputs": [],
   "source": [
    "import keras\n",
    "import tensorflow as tf\n",
    "import numpy as np \n",
    "from PIL import Image as PImage\n",
    "\n",
    "local_path = '/Users/nvvankad/Documents/Personal/Masters/Github-Galaxification/Galaxification/'\n",
    "model = keras.models.load_model(local_path)"
   ]
  },
  {
   "cell_type": "code",
   "execution_count": 30,
   "metadata": {},
   "outputs": [
    {
     "data": {
      "image/png": "[encoded data removed]",
      "text/plain": [
       "<PIL.PngImagePlugin.PngImageFile image mode=RGB size=69x69 at 0x13D6AEA20>"
      ]
     },
     "execution_count": 30,
     "metadata": {},
     "output_type": "execute_result"
    }
   ],
   "source": [
    "sample_image = PImage.open(\"/Users/nvvankad/Documents/Personal/Masters/CSCE_5214_P1_Galaxification/uploaded_file/download.png\")\n",
    "sample_image"
   ]
  },
  {
   "cell_type": "code",
   "execution_count": 31,
   "metadata": {},
   "outputs": [],
   "source": [
    "def numbers_to_strings(argument): \n",
    "    switcher = { \n",
    "        0: \"Disk, Face-on, No Spiral\", \n",
    "        1: \"Smooth, Completely round\", \n",
    "        2: \"Smooth, in-between round\",\n",
    "        3: \"Smooth, Cigar shaped\", \n",
    "        4: \"Disk, Edge-on, Rounded Bulge\", \n",
    "        5: \"Disk, Edge-on, Boxy Bulge\",\n",
    "        6: \"Disk, Edge-on, No Bulge\", \n",
    "        7: \"Disk, Face-on, Tight Spiral\", \n",
    "        8: \"Disk, Face-on, Medium Spiral\",\n",
    "        9: \"Disk, Face-on, Loose Spiral\", \n",
    "    } \n",
    "    return switcher.get(argument, \"nothing\") "
   ]
  },
  {
   "cell_type": "code",
   "execution_count": 32,
   "metadata": {},
   "outputs": [
    {
     "name": "stdout",
     "output_type": "stream",
     "text": [
      "Smooth, Completely round\n"
     ]
    }
   ],
   "source": [
    "# print(sample_image.size)\n",
    "img_array = keras.preprocessing.image.img_to_array(sample_image)\n",
    "img_array = tf.expand_dims(img_array, 0) # Create a batch\n",
    "\n",
    "predicted_output = model.predict(img_array)\n",
    "\n",
    "classification_id = np.argmax(predicted_output, axis=1)[0]\n",
    "classification_type = numbers_to_strings(classification_id)\n",
    "print(classification_type)\n"
   ]
  }
 ],
 "metadata": {
  "kernelspec": {
   "display_name": "Python 3",
   "language": "python",
   "name": "python3"
  },
  "language_info": {
   "codemirror_mode": {
    "name": "ipython",
    "version": 3
   },
   "file_extension": ".py",
   "mimetype": "text/x-python",
   "name": "python",
   "nbconvert_exporter": "python",
   "pygments_lexer": "ipython3",
   "version": "3.7.1"
  }
 },
 "nbformat": 4,
 "nbformat_minor": 4
}
