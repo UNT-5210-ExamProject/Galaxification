{
 "cells": [
  {
   "cell_type": "code",
   "execution_count": 1,
   "metadata": {},
   "outputs": [
    {
     "name": "stdout",
     "output_type": "stream",
     "text": [
      "WARNING! APOGEE environment variable SDSS_LOCAL_SAS_MIRROR not set\n",
      "WARNING! Gaia environment variable GAIA_TOOLS_DATA not set\n"
     ]
    }
   ],
   "source": [
    "import numpy as np \n",
    "import tensorflow as tf \n",
    "import keras\n",
    "from keras import utils \n",
    "from keras import layers \n",
    "from keras.models import Sequential \n",
    "from keras.layers import Conv2D, MaxPooling2D, Activation, Dropout, Flatten, Dense, Reshape\n",
    "import matplotlib.pyplot as plt \n",
    "import pandas as pd\n",
    "# import pickle\n",
    "\n",
    "from astroNN.datasets import galaxy10 \n",
    "from astroNN.datasets.galaxy10 import galaxy10cls_lookup, galaxy10_confusion "
   ]
  },
  {
   "cell_type": "code",
   "execution_count": 2,
   "metadata": {
    "scrolled": true
   },
   "outputs": [
    {
     "name": "stdout",
     "output_type": "stream",
     "text": [
      "/Users/nvvankad/.astroNN/datasets/Galaxy10.h5 was found!\n"
     ]
    }
   ],
   "source": [
    "images, labels = galaxy10.load_data() #loading images\n",
    "labels = utils.to_categorical(labels, 10) #convering labels to categorical values "
   ]
  },
  {
   "cell_type": "code",
   "execution_count": 3,
   "metadata": {
    "scrolled": false
   },
   "outputs": [
    {
     "name": "stdout",
     "output_type": "stream",
     "text": [
      "21785\n",
      "[[[[16 18 15]\n",
      "   [18 20 15]\n",
      "   [16 17 12]\n",
      "   ...\n",
      "   [ 6  6  4]\n",
      "   [ 9  9  7]\n",
      "   [ 6  6  4]]\n",
      "\n",
      "  [[19 24 20]\n",
      "   [23 25 20]\n",
      "   [17 18 13]\n",
      "   ...\n",
      "   [ 8  5  3]\n",
      "   [10  8  6]\n",
      "   [ 6  6  4]]\n",
      "\n",
      "  [[17 22 18]\n",
      "   [21 24 19]\n",
      "   [17 18 13]\n",
      "   ...\n",
      "   [ 8  4  3]\n",
      "   [11  8  7]\n",
      "   [ 7  6  4]]\n",
      "\n",
      "  ...\n",
      "\n",
      "  [[17 14  7]\n",
      "   [18 17  9]\n",
      "   [15 14  7]\n",
      "   ...\n",
      "   [ 2  4  0]\n",
      "   [ 3  5  0]\n",
      "   [ 5  7  2]]\n",
      "\n",
      "  [[22 14 11]\n",
      "   [19 14  8]\n",
      "   [12  9  3]\n",
      "   ...\n",
      "   [ 4  7  0]\n",
      "   [ 6  9  2]\n",
      "   [ 7 10  3]]\n",
      "\n",
      "  [[30 12 11]\n",
      "   [31 14  8]\n",
      "   [24  9  2]\n",
      "   ...\n",
      "   [ 8 11  3]\n",
      "   [11 14  6]\n",
      "   [12 15  7]]]\n",
      "\n",
      "\n",
      " [[[ 1  3  0]\n",
      "   [ 1  1  1]\n",
      "   [ 1  1  1]\n",
      "   ...\n",
      "   [ 5  7  4]\n",
      "   [ 3  5  2]\n",
      "   [ 4  6  3]]\n",
      "\n",
      "  [[ 1  2  0]\n",
      "   [ 1  1  0]\n",
      "   [ 0  0  0]\n",
      "   ...\n",
      "   [ 3  7  3]\n",
      "   [ 2  6  2]\n",
      "   [ 2  6  3]]\n",
      "\n",
      "  [[ 3  3  1]\n",
      "   [ 1  1  0]\n",
      "   [ 0  0  0]\n",
      "   ...\n",
      "   [ 1  3  0]\n",
      "   [ 2  4  1]\n",
      "   [ 2  4  1]]\n",
      "\n",
      "  ...\n",
      "\n",
      "  [[ 5  7  4]\n",
      "   [ 5  7  4]\n",
      "   [ 3  5  2]\n",
      "   ...\n",
      "   [ 2  4  1]\n",
      "   [ 1  3  1]\n",
      "   [ 1  3  0]]\n",
      "\n",
      "  [[ 4  6  3]\n",
      "   [ 3  5  2]\n",
      "   [ 2  4  1]\n",
      "   ...\n",
      "   [ 1  3  0]\n",
      "   [ 0  2  0]\n",
      "   [ 1  3  0]]\n",
      "\n",
      "  [[ 2  4  1]\n",
      "   [ 0  2  0]\n",
      "   [ 1  3  0]\n",
      "   ...\n",
      "   [ 1  3  0]\n",
      "   [ 2  4  1]\n",
      "   [ 2  4  1]]]\n",
      "\n",
      "\n",
      " [[[ 7 10  7]\n",
      "   [ 2  5  2]\n",
      "   [ 2  5  1]\n",
      "   ...\n",
      "   [ 3  3  1]\n",
      "   [ 1  1  0]\n",
      "   [ 0  0  0]]\n",
      "\n",
      "  [[ 4  5  3]\n",
      "   [ 4  6  3]\n",
      "   [ 2  4  1]\n",
      "   ...\n",
      "   [ 5  5  4]\n",
      "   [ 2  2  1]\n",
      "   [ 2  2  0]]\n",
      "\n",
      "  [[ 3  3  1]\n",
      "   [ 3  3  1]\n",
      "   [ 1  1  0]\n",
      "   ...\n",
      "   [ 8  8  6]\n",
      "   [ 6  6  4]\n",
      "   [ 4  4  2]]\n",
      "\n",
      "  ...\n",
      "\n",
      "  [[ 4  4  4]\n",
      "   [ 2  2  2]\n",
      "   [ 2  2  0]\n",
      "   ...\n",
      "   [ 1  1  0]\n",
      "   [ 1  1  0]\n",
      "   [ 1  1  0]]\n",
      "\n",
      "  [[ 5  5  5]\n",
      "   [ 4  4  3]\n",
      "   [ 4  4  3]\n",
      "   ...\n",
      "   [ 3  3  1]\n",
      "   [ 1  1  0]\n",
      "   [ 0  0  0]]\n",
      "\n",
      "  [[ 4  4  4]\n",
      "   [ 5  5  6]\n",
      "   [ 9  9  9]\n",
      "   ...\n",
      "   [ 7  7  5]\n",
      "   [ 3  3  2]\n",
      "   [ 2  2  0]]]\n",
      "\n",
      "\n",
      " ...\n",
      "\n",
      "\n",
      " [[[ 7  7  5]\n",
      "   [ 7  9  6]\n",
      "   [ 7  9  6]\n",
      "   ...\n",
      "   [ 3  4  2]\n",
      "   [ 7  9  6]\n",
      "   [ 8 10  7]]\n",
      "\n",
      "  [[ 5  7  4]\n",
      "   [ 4  5  3]\n",
      "   [ 7  8  6]\n",
      "   ...\n",
      "   [ 7  9  6]\n",
      "   [ 3  5  3]\n",
      "   [ 4  6  3]]\n",
      "\n",
      "  [[ 5  6  4]\n",
      "   [ 2  3  1]\n",
      "   [ 3  3  1]\n",
      "   ...\n",
      "   [ 7  9  6]\n",
      "   [ 4  6  3]\n",
      "   [ 4  6  3]]\n",
      "\n",
      "  ...\n",
      "\n",
      "  [[ 3  5  2]\n",
      "   [ 9 10  8]\n",
      "   [11 11 10]\n",
      "   ...\n",
      "   [ 4  5  3]\n",
      "   [ 1  3  1]\n",
      "   [ 1  3  0]]\n",
      "\n",
      "  [[ 2  4  1]\n",
      "   [ 6  7  5]\n",
      "   [ 6  6  5]\n",
      "   ...\n",
      "   [ 3  5  2]\n",
      "   [ 1  3  1]\n",
      "   [ 3  5  2]]\n",
      "\n",
      "  [[ 3  5  2]\n",
      "   [ 3  4  2]\n",
      "   [ 2  2  1]\n",
      "   ...\n",
      "   [ 3  5  2]\n",
      "   [ 1  3  1]\n",
      "   [ 2  4  1]]]\n",
      "\n",
      "\n",
      " [[[ 4  4  3]\n",
      "   [ 9  9  7]\n",
      "   [ 6  6  5]\n",
      "   ...\n",
      "   [11 12 14]\n",
      "   [ 4  6  5]\n",
      "   [ 6  7  3]]\n",
      "\n",
      "  [[ 5  5  4]\n",
      "   [ 7  7  5]\n",
      "   [ 3  3  1]\n",
      "   ...\n",
      "   [ 4  5  4]\n",
      "   [ 3  4  2]\n",
      "   [ 5  5  3]]\n",
      "\n",
      "  [[ 5  5  3]\n",
      "   [ 5  5  3]\n",
      "   [ 2  2  0]\n",
      "   ...\n",
      "   [ 6  6  4]\n",
      "   [ 2  2  1]\n",
      "   [ 5  5  3]]\n",
      "\n",
      "  ...\n",
      "\n",
      "  [[ 4  4  2]\n",
      "   [ 2  2  0]\n",
      "   [ 1  1  0]\n",
      "   ...\n",
      "   [ 3  3  1]\n",
      "   [ 2  2  0]\n",
      "   [ 3  3  1]]\n",
      "\n",
      "  [[12 12 10]\n",
      "   [ 5  5  3]\n",
      "   [ 3  2  0]\n",
      "   ...\n",
      "   [ 3  3  1]\n",
      "   [ 4  4  2]\n",
      "   [ 4  4  2]]\n",
      "\n",
      "  [[ 7  7  6]\n",
      "   [ 6  4  3]\n",
      "   [ 6  3  2]\n",
      "   ...\n",
      "   [ 2  2  0]\n",
      "   [ 4  4  2]\n",
      "   [ 3  3  1]]]\n",
      "\n",
      "\n",
      " [[[11 12  7]\n",
      "   [12 15  6]\n",
      "   [21 24 13]\n",
      "   ...\n",
      "   [ 6  2  0]\n",
      "   [ 5  1  0]\n",
      "   [ 7  2  0]]\n",
      "\n",
      "  [[ 7 10  4]\n",
      "   [11 14  7]\n",
      "   [21 24 16]\n",
      "   ...\n",
      "   [10  6  3]\n",
      "   [ 7  3  0]\n",
      "   [ 8  3  1]]\n",
      "\n",
      "  [[ 3  6  0]\n",
      "   [ 4  7  2]\n",
      "   [11 13  8]\n",
      "   ...\n",
      "   [15 10  7]\n",
      "   [10  6  3]\n",
      "   [ 9  4  1]]\n",
      "\n",
      "  ...\n",
      "\n",
      "  [[ 8  8  6]\n",
      "   [ 6  6  4]\n",
      "   [ 5  5  3]\n",
      "   ...\n",
      "   [ 8  4  3]\n",
      "   [ 4  1  0]\n",
      "   [ 5  1  0]]\n",
      "\n",
      "  [[ 6  6  4]\n",
      "   [ 3  3  1]\n",
      "   [ 3  3  1]\n",
      "   ...\n",
      "   [ 7  3  2]\n",
      "   [ 4  0  0]\n",
      "   [ 4  0  0]]\n",
      "\n",
      "  [[ 3  3  1]\n",
      "   [ 2  2  0]\n",
      "   [ 2  2  0]\n",
      "   ...\n",
      "   [ 5  1  0]\n",
      "   [ 4  0  0]\n",
      "   [ 4  0  0]]]]\n",
      "[[0. 0. 1. ... 0. 0. 0.]\n",
      " [0. 0. 1. ... 0. 0. 0.]\n",
      " [0. 0. 0. ... 0. 0. 0.]\n",
      " ...\n",
      " [0. 0. 1. ... 0. 0. 0.]\n",
      " [0. 0. 0. ... 0. 0. 1.]\n",
      " [0. 0. 1. ... 0. 0. 0.]]\n",
      "<class 'numpy.ndarray'>\n",
      "<class 'numpy.ndarray'>\n"
     ]
    }
   ],
   "source": [
    "image_count = len(list(images))\n",
    "print(image_count)\n",
    "print(images)\n",
    "print(labels)\n",
    "print(type(images))\n",
    "print(type(labels))"
   ]
  },
  {
   "cell_type": "code",
   "execution_count": 4,
   "metadata": {},
   "outputs": [
    {
     "data": {
      "image/png": "[encoded data removed]",
      "text/plain": [
       "<PIL.Image.Image image mode=RGB size=69x69 at 0x106EAAF98>"
      ]
     },
     "execution_count": 4,
     "metadata": {},
     "output_type": "execute_result"
    }
   ],
   "source": [
    "from PIL import Image\n",
    "image2 = Image.fromarray(images[-1])\n",
    "image2"
   ]
  },
  {
   "cell_type": "code",
   "execution_count": 5,
   "metadata": {},
   "outputs": [
    {
     "name": "stdout",
     "output_type": "stream",
     "text": [
      "RGB\n",
      "(69, 69)\n"
     ]
    }
   ],
   "source": [
    "print(image2.mode)\n",
    "print(image2.size)"
   ]
  },
  {
   "cell_type": "code",
   "execution_count": 6,
   "metadata": {},
   "outputs": [
    {
     "name": "stdout",
     "output_type": "stream",
     "text": [
      "<class 'numpy.ndarray'>\n",
      "(69, 69, 3)\n"
     ]
    }
   ],
   "source": [
    "from numpy import asarray\n",
    "\n",
    "# convert image to numpy array\n",
    "data = np.array(image2)\n",
    "print(type(data))\n",
    "# summarize shape\n",
    "print(data.shape)"
   ]
  },
  {
   "cell_type": "code",
   "execution_count": 7,
   "metadata": {},
   "outputs": [
    {
     "data": {
      "image/png": "[encoded data removed]",
      "text/plain": [
       "<PIL.Image.Image image mode=RGB size=69x69 at 0x1113FECC0>"
      ]
     },
     "execution_count": 7,
     "metadata": {},
     "output_type": "execute_result"
    }
   ],
   "source": [
    "from PIL import Image\n",
    "\n",
    "image3 = Image.fromarray(data)\n",
    "image3"
   ]
  },
  {
   "cell_type": "code",
   "execution_count": 8,
   "metadata": {},
   "outputs": [
    {
     "name": "stdout",
     "output_type": "stream",
     "text": [
      "RGB\n",
      "(69, 69)\n"
     ]
    }
   ],
   "source": [
    "print(image3.mode)\n",
    "print(image3.size)"
   ]
  },
  {
   "cell_type": "code",
   "execution_count": 9,
   "metadata": {},
   "outputs": [],
   "source": [
    "batch_size = 64\n",
    "img_height = 69\n",
    "img_width = 69\n",
    "shuffle_buffer_size = 100"
   ]
  },
  {
   "cell_type": "code",
   "execution_count": 10,
   "metadata": {
    "scrolled": true
   },
   "outputs": [],
   "source": [
    "train_ds = tf.data.Dataset.from_tensor_slices((images[0:15428], labels[0:15428]))\n",
    "train_ds = train_ds.shuffle(shuffle_buffer_size).batch(batch_size)\n",
    "#train_images = images[:15428]\n",
    "#train_labels = labels[:15428]\n",
    "val_ds = tf.data.Dataset.from_tensor_slices((images[15429:17428], labels[15429:17428]))\n",
    "val_ds = val_ds.shuffle(shuffle_buffer_size).batch(batch_size)\n",
    "test_ds = tf.data.Dataset.from_tensor_slices((images[17429:], labels[17429:]))\n",
    "test_ds = test_ds.shuffle(shuffle_buffer_size).batch(batch_size)"
   ]
  },
  {
   "cell_type": "code",
   "execution_count": 11,
   "metadata": {},
   "outputs": [],
   "source": [
    "input_shape = (69, 69, 3)\n",
    "num_classes = 10\n",
    "\n",
    "model = Sequential()\n",
    "model.add(layers.experimental.preprocessing.Rescaling(1./255, input_shape = input_shape))\n",
    "model.add(layers.Conv2D(16, kernel_size = (1,1), padding = 'same', activation = 'relu'))\n",
    "model.add(layers.MaxPooling2D())\n",
    "model.add(layers.Conv2D(32, (3,3), padding = 'same', activation = 'relu'))\n",
    "model.add(layers.MaxPooling2D())\n",
    "model.add(layers.Conv2D(64, (3,3), padding = 'same', activation = 'relu'))\n",
    "model.add(layers.MaxPooling2D())\n",
    "model.add(layers.Flatten())\n",
    "model.add(layers.Dense(128, activation = 'relu'))\n",
    "model.add(layers.Dropout(0.5))\n",
    "model.add(layers.Dense(num_classes, activation = 'softmax'))\n"
   ]
  },
  {
   "cell_type": "code",
   "execution_count": 12,
   "metadata": {
    "scrolled": true
   },
   "outputs": [
    {
     "name": "stdout",
     "output_type": "stream",
     "text": [
      "Model: \"sequential\"\n",
      "_________________________________________________________________\n",
      "Layer (type)                 Output Shape              Param #   \n",
      "=================================================================\n",
      "rescaling (Rescaling)        (None, 69, 69, 3)         0         \n",
      "_________________________________________________________________\n",
      "conv2d (Conv2D)              (None, 69, 69, 16)        64        \n",
      "_________________________________________________________________\n",
      "max_pooling2d (MaxPooling2D) (None, 34, 34, 16)        0         \n",
      "_________________________________________________________________\n",
      "conv2d_1 (Conv2D)            (None, 34, 34, 32)        4640      \n",
      "_________________________________________________________________\n",
      "max_pooling2d_1 (MaxPooling2 (None, 17, 17, 32)        0         \n",
      "_________________________________________________________________\n",
      "conv2d_2 (Conv2D)            (None, 17, 17, 64)        18496     \n",
      "_________________________________________________________________\n",
      "max_pooling2d_2 (MaxPooling2 (None, 8, 8, 64)          0         \n",
      "_________________________________________________________________\n",
      "flatten (Flatten)            (None, 4096)              0         \n",
      "_________________________________________________________________\n",
      "dense (Dense)                (None, 128)               524416    \n",
      "_________________________________________________________________\n",
      "dropout (Dropout)            (None, 128)               0         \n",
      "_________________________________________________________________\n",
      "dense_1 (Dense)              (None, 10)                1290      \n",
      "=================================================================\n",
      "Total params: 548,906\n",
      "Trainable params: 548,906\n",
      "Non-trainable params: 0\n",
      "_________________________________________________________________\n"
     ]
    }
   ],
   "source": [
    "model.compile(optimizer = tf.keras.optimizers.Adam(learning_rate=0.0005), loss = tf.keras.losses.CategoricalCrossentropy(), metrics = ['accuracy'])\n",
    "model.summary()"
   ]
  },
  {
   "cell_type": "code",
   "execution_count": 13,
   "metadata": {},
   "outputs": [
    {
     "name": "stdout",
     "output_type": "stream",
     "text": [
      "Epoch 1/25\n",
      "242/242 [==============================] - 30s 126ms/step - loss: 1.6559 - accuracy: 0.3417 - val_loss: 1.4014 - val_accuracy: 0.4372\n",
      "Epoch 2/25\n",
      "242/242 [==============================] - 29s 122ms/step - loss: 1.3808 - accuracy: 0.4320 - val_loss: 1.3049 - val_accuracy: 0.4887\n",
      "Epoch 3/25\n",
      "242/242 [==============================] - 31s 129ms/step - loss: 1.2520 - accuracy: 0.4922 - val_loss: 1.1252 - val_accuracy: 0.5518\n",
      "Epoch 4/25\n",
      "242/242 [==============================] - 33s 134ms/step - loss: 1.1644 - accuracy: 0.5372 - val_loss: 1.0497 - val_accuracy: 0.5968\n",
      "Epoch 5/25\n",
      "242/242 [==============================] - 40s 164ms/step - loss: 1.1081 - accuracy: 0.5709 - val_loss: 1.0022 - val_accuracy: 0.6333\n",
      "Epoch 6/25\n",
      "242/242 [==============================] - 30s 122ms/step - loss: 1.0553 - accuracy: 0.5978 - val_loss: 0.9673 - val_accuracy: 0.6553\n",
      "Epoch 7/25\n",
      "242/242 [==============================] - 33s 136ms/step - loss: 1.0037 - accuracy: 0.6190 - val_loss: 0.9140 - val_accuracy: 0.6708\n",
      "Epoch 8/25\n",
      "242/242 [==============================] - 34s 142ms/step - loss: 0.9669 - accuracy: 0.6363 - val_loss: 0.8874 - val_accuracy: 0.6863\n",
      "Epoch 9/25\n",
      "242/242 [==============================] - 36s 149ms/step - loss: 0.9321 - accuracy: 0.6477 - val_loss: 0.9136 - val_accuracy: 0.6568\n",
      "Epoch 10/25\n",
      "242/242 [==============================] - 31s 126ms/step - loss: 0.8972 - accuracy: 0.6618 - val_loss: 0.8203 - val_accuracy: 0.6983\n",
      "Epoch 11/25\n",
      "242/242 [==============================] - 32s 131ms/step - loss: 0.8681 - accuracy: 0.6707 - val_loss: 0.8270 - val_accuracy: 0.6973\n",
      "Epoch 12/25\n",
      "242/242 [==============================] - 32s 133ms/step - loss: 0.8386 - accuracy: 0.6863 - val_loss: 0.7959 - val_accuracy: 0.7154\n",
      "Epoch 13/25\n",
      "242/242 [==============================] - 34s 142ms/step - loss: 0.8135 - accuracy: 0.6983 - val_loss: 0.7660 - val_accuracy: 0.7264\n",
      "Epoch 14/25\n",
      "242/242 [==============================] - 32s 134ms/step - loss: 0.7985 - accuracy: 0.7017 - val_loss: 0.7897 - val_accuracy: 0.7139\n",
      "Epoch 15/25\n",
      "242/242 [==============================] - 35s 146ms/step - loss: 0.7814 - accuracy: 0.7035 - val_loss: 0.7566 - val_accuracy: 0.7264\n",
      "Epoch 16/25\n",
      "242/242 [==============================] - 35s 144ms/step - loss: 0.7487 - accuracy: 0.7174 - val_loss: 0.7737 - val_accuracy: 0.7269\n",
      "Epoch 17/25\n",
      "242/242 [==============================] - 37s 151ms/step - loss: 0.7374 - accuracy: 0.7256 - val_loss: 0.7171 - val_accuracy: 0.7444\n",
      "Epoch 18/25\n",
      "242/242 [==============================] - 35s 146ms/step - loss: 0.7184 - accuracy: 0.7298 - val_loss: 0.7089 - val_accuracy: 0.7469\n",
      "Epoch 19/25\n",
      "242/242 [==============================] - 33s 135ms/step - loss: 0.7095 - accuracy: 0.7354 - val_loss: 0.6983 - val_accuracy: 0.7499\n",
      "Epoch 20/25\n",
      "242/242 [==============================] - 35s 143ms/step - loss: 0.6938 - accuracy: 0.7427 - val_loss: 0.7219 - val_accuracy: 0.7419\n",
      "Epoch 21/25\n",
      "242/242 [==============================] - 33s 134ms/step - loss: 0.6692 - accuracy: 0.7484 - val_loss: 0.7399 - val_accuracy: 0.7234\n",
      "Epoch 22/25\n",
      "242/242 [==============================] - 33s 134ms/step - loss: 0.6687 - accuracy: 0.7479 - val_loss: 0.6971 - val_accuracy: 0.7529\n",
      "Epoch 23/25\n",
      "242/242 [==============================] - 35s 143ms/step - loss: 0.6505 - accuracy: 0.7580 - val_loss: 0.6901 - val_accuracy: 0.7569\n",
      "Epoch 24/25\n",
      "242/242 [==============================] - 32s 132ms/step - loss: 0.6366 - accuracy: 0.7626 - val_loss: 0.7496 - val_accuracy: 0.7394\n",
      "Epoch 25/25\n",
      "242/242 [==============================] - 34s 141ms/step - loss: 0.6332 - accuracy: 0.7648 - val_loss: 0.6900 - val_accuracy: 0.7549\n"
     ]
    }
   ],
   "source": [
    "epochs = 25\n",
    "classifier = model.fit(\n",
    "    train_ds, \n",
    "    #train_images, \n",
    "    #train_labels, \n",
    "    batch_size = batch_size,\n",
    "    validation_data = val_ds, \n",
    "    epochs = epochs\n",
    ")"
   ]
  },
  {
   "cell_type": "code",
   "execution_count": 14,
   "metadata": {},
   "outputs": [
    {
     "name": "stdout",
     "output_type": "stream",
     "text": [
      "WARNING:tensorflow:From /Users/nvvankad/Documents/Personal/Masters/jupyterEnv/JupyterEnv/lib/python3.7/site-packages/tensorflow/python/training/tracking/tracking.py:111: Model.state_updates (from tensorflow.python.keras.engine.training) is deprecated and will be removed in a future version.\n",
      "Instructions for updating:\n",
      "This property should not be used in TensorFlow 2.0, as updates are applied automatically.\n",
      "WARNING:tensorflow:From /Users/nvvankad/Documents/Personal/Masters/jupyterEnv/JupyterEnv/lib/python3.7/site-packages/tensorflow/python/training/tracking/tracking.py:111: Layer.updates (from tensorflow.python.keras.engine.base_layer) is deprecated and will be removed in a future version.\n",
      "Instructions for updating:\n",
      "This property should not be used in TensorFlow 2.0, as updates are applied automatically.\n",
      "INFO:tensorflow:Assets written to: /Users/nvvankad/Documents/Personal/Masters/Github-Galaxification/Galaxification/assets\n"
     ]
    }
   ],
   "source": [
    "local_path = '/Users/nvvankad/Documents/Personal/Masters/Github-Galaxification/Galaxification/'\n",
    "model.save(local_path)\n",
    "model = keras.models.load_model(local_path)"
   ]
  },
  {
   "cell_type": "code",
   "execution_count": 15,
   "metadata": {
    "scrolled": true
   },
   "outputs": [
    {
     "name": "stdout",
     "output_type": "stream",
     "text": [
      "69/69 [==============================] - 2s 33ms/step - loss: 0.6722 - accuracy: 0.7626\n"
     ]
    }
   ],
   "source": [
    "evaluation = model.evaluate(test_ds)"
   ]
  },
  {
   "cell_type": "code",
   "execution_count": 16,
   "metadata": {},
   "outputs": [
    {
     "data": {
      "text/plain": [
       "Text(0.5, 1.0, 'Validation Accuracy')"
      ]
     },
     "execution_count": 16,
     "metadata": {},
     "output_type": "execute_result"
    },
    {
     "data": {
      "image/png": "[encoded data removed]",
      "text/plain": [
       "<Figure size 1080x720 with 2 Axes>"
      ]
     },
     "metadata": {
      "needs_background": "light"
     },
     "output_type": "display_data"
    }
   ],
   "source": [
    "plt.figure(figsize=(15,10))\n",
    "ax = plt.subplot(1, 2, 1)\n",
    "plt.plot(classifier.history[\"accuracy\"])\n",
    "plt.ylabel('Accuracy')\n",
    "plt.xlabel('Epoch')\n",
    "plt.title(\"Training Accuracy\")\n",
    "ax = plt.subplot(1, 2, 2)\n",
    "plt.plot(classifier.history[\"val_accuracy\"])\n",
    "plt.ylabel('Val_Accuracy')\n",
    "plt.xlabel('Epoch')\n",
    "plt.title(\"Validation Accuracy\")"
   ]
  },
  {
   "cell_type": "code",
   "execution_count": 17,
   "metadata": {},
   "outputs": [
    {
     "data": {
      "text/plain": [
       "Text(0.5, 1.0, 'Validation Loss')"
      ]
     },
     "execution_count": 17,
     "metadata": {},
     "output_type": "execute_result"
    },
    {
     "data": {
      "image/png": "[encoded data removed]",
      "text/plain": [
       "<Figure size 1080x720 with 2 Axes>"
      ]
     },
     "metadata": {
      "needs_background": "light"
     },
     "output_type": "display_data"
    }
   ],
   "source": [
    "plt.figure(figsize=(15,10))\n",
    "ax = plt.subplot(1, 2, 1)\n",
    "plt.plot(classifier.history[\"loss\"])\n",
    "plt.ylabel('Loss')\n",
    "plt.xlabel('Epoch')\n",
    "plt.title(\"Training Loss\")\n",
    "ax = plt.subplot(1, 2, 2)\n",
    "plt.plot(classifier.history[\"val_loss\"])\n",
    "plt.ylabel('Val_Loss')\n",
    "plt.xlabel('Epoch')\n",
    "plt.title(\"Validation Loss\")"
   ]
  },
  {
   "cell_type": "code",
   "execution_count": 18,
   "metadata": {},
   "outputs": [],
   "source": [
    "check = model.predict(test_ds)\n",
    "check = pd.DataFrame(check)\n",
    "check.columns = ['Disk, Face-on, No Spiral', 'Smooth, Completely round', 'Smooth, in-between round', \n",
    "                 'Smooth, Cigar shaped', 'Disk, Edge-on, Rounded Bulge', 'Disk, Edge-on, Boxy Bulge', \n",
    "                 'Disk, Edge-on, No Bulge', 'Disk, Face-on, Tight Spiral', 'Disk, Face-on, Medium Spiral', 'Disk, Face-on, Loose Spiral']"
   ]
  },
  {
   "cell_type": "code",
   "execution_count": 19,
   "metadata": {},
   "outputs": [
    {
     "data": {
      "text/html": [
       "<div>\n",
       "<style scoped>\n",
       "    .dataframe tbody tr th:only-of-type {\n",
       "        vertical-align: middle;\n",
       "    }\n",
       "\n",
       "    .dataframe tbody tr th {\n",
       "        vertical-align: top;\n",
       "    }\n",
       "\n",
       "    .dataframe thead th {\n",
       "        text-align: right;\n",
       "    }\n",
       "</style>\n",
       "<table border=\"1\" class=\"dataframe\">\n",
       "  <thead>\n",
       "    <tr style=\"text-align: right;\">\n",
       "      <th></th>\n",
       "      <th>Disk, Face-on, No Spiral</th>\n",
       "      <th>Smooth, Completely round</th>\n",
       "      <th>Smooth, in-between round</th>\n",
       "      <th>Smooth, Cigar shaped</th>\n",
       "      <th>Disk, Edge-on, Rounded Bulge</th>\n",
       "      <th>Disk, Edge-on, Boxy Bulge</th>\n",
       "      <th>Disk, Edge-on, No Bulge</th>\n",
       "      <th>Disk, Face-on, Tight Spiral</th>\n",
       "      <th>Disk, Face-on, Medium Spiral</th>\n",
       "      <th>Disk, Face-on, Loose Spiral</th>\n",
       "    </tr>\n",
       "  </thead>\n",
       "  <tbody>\n",
       "    <tr>\n",
       "      <th>0</th>\n",
       "      <td>0.074920</td>\n",
       "      <td>0.133840</td>\n",
       "      <td>0.790954</td>\n",
       "      <td>1.703087e-08</td>\n",
       "      <td>1.530999e-05</td>\n",
       "      <td>5.461678e-12</td>\n",
       "      <td>5.598874e-11</td>\n",
       "      <td>5.442812e-05</td>\n",
       "      <td>1.196625e-04</td>\n",
       "      <td>9.660592e-05</td>\n",
       "    </tr>\n",
       "    <tr>\n",
       "      <th>1</th>\n",
       "      <td>0.002120</td>\n",
       "      <td>0.901738</td>\n",
       "      <td>0.096142</td>\n",
       "      <td>3.553454e-10</td>\n",
       "      <td>6.319455e-09</td>\n",
       "      <td>2.683784e-16</td>\n",
       "      <td>8.943441e-14</td>\n",
       "      <td>4.290875e-07</td>\n",
       "      <td>1.864768e-07</td>\n",
       "      <td>1.898203e-07</td>\n",
       "    </tr>\n",
       "    <tr>\n",
       "      <th>2</th>\n",
       "      <td>0.001759</td>\n",
       "      <td>0.317907</td>\n",
       "      <td>0.680321</td>\n",
       "      <td>2.489034e-08</td>\n",
       "      <td>7.899465e-06</td>\n",
       "      <td>2.248732e-11</td>\n",
       "      <td>2.869062e-10</td>\n",
       "      <td>2.567488e-06</td>\n",
       "      <td>6.352501e-07</td>\n",
       "      <td>7.534578e-07</td>\n",
       "    </tr>\n",
       "    <tr>\n",
       "      <th>3</th>\n",
       "      <td>0.478249</td>\n",
       "      <td>0.001154</td>\n",
       "      <td>0.002316</td>\n",
       "      <td>1.138011e-07</td>\n",
       "      <td>8.823412e-08</td>\n",
       "      <td>5.833791e-11</td>\n",
       "      <td>2.773890e-08</td>\n",
       "      <td>5.805314e-02</td>\n",
       "      <td>4.097882e-01</td>\n",
       "      <td>5.044021e-02</td>\n",
       "    </tr>\n",
       "    <tr>\n",
       "      <th>4</th>\n",
       "      <td>0.196491</td>\n",
       "      <td>0.003872</td>\n",
       "      <td>0.000935</td>\n",
       "      <td>2.927170e-11</td>\n",
       "      <td>5.595160e-10</td>\n",
       "      <td>1.190102e-13</td>\n",
       "      <td>6.493688e-12</td>\n",
       "      <td>5.462489e-01</td>\n",
       "      <td>2.504210e-01</td>\n",
       "      <td>2.031843e-03</td>\n",
       "    </tr>\n",
       "    <tr>\n",
       "      <th>...</th>\n",
       "      <td>...</td>\n",
       "      <td>...</td>\n",
       "      <td>...</td>\n",
       "      <td>...</td>\n",
       "      <td>...</td>\n",
       "      <td>...</td>\n",
       "      <td>...</td>\n",
       "      <td>...</td>\n",
       "      <td>...</td>\n",
       "      <td>...</td>\n",
       "    </tr>\n",
       "    <tr>\n",
       "      <th>4351</th>\n",
       "      <td>0.383938</td>\n",
       "      <td>0.457081</td>\n",
       "      <td>0.158163</td>\n",
       "      <td>2.810125e-09</td>\n",
       "      <td>2.665693e-06</td>\n",
       "      <td>2.309524e-12</td>\n",
       "      <td>3.514413e-11</td>\n",
       "      <td>9.612312e-05</td>\n",
       "      <td>5.192706e-04</td>\n",
       "      <td>1.999034e-04</td>\n",
       "    </tr>\n",
       "    <tr>\n",
       "      <th>4352</th>\n",
       "      <td>0.111972</td>\n",
       "      <td>0.142750</td>\n",
       "      <td>0.743391</td>\n",
       "      <td>1.885070e-08</td>\n",
       "      <td>2.829329e-06</td>\n",
       "      <td>1.038278e-12</td>\n",
       "      <td>9.746236e-11</td>\n",
       "      <td>1.178247e-03</td>\n",
       "      <td>4.287394e-04</td>\n",
       "      <td>2.774251e-04</td>\n",
       "    </tr>\n",
       "    <tr>\n",
       "      <th>4353</th>\n",
       "      <td>0.214206</td>\n",
       "      <td>0.000007</td>\n",
       "      <td>0.241149</td>\n",
       "      <td>4.017046e-01</td>\n",
       "      <td>8.258326e-02</td>\n",
       "      <td>7.173413e-05</td>\n",
       "      <td>3.853044e-03</td>\n",
       "      <td>1.633541e-02</td>\n",
       "      <td>1.100415e-02</td>\n",
       "      <td>2.908505e-02</td>\n",
       "    </tr>\n",
       "    <tr>\n",
       "      <th>4354</th>\n",
       "      <td>0.157287</td>\n",
       "      <td>0.000036</td>\n",
       "      <td>0.823147</td>\n",
       "      <td>4.614718e-04</td>\n",
       "      <td>1.680096e-02</td>\n",
       "      <td>2.651289e-07</td>\n",
       "      <td>9.024442e-07</td>\n",
       "      <td>4.453499e-04</td>\n",
       "      <td>4.541501e-04</td>\n",
       "      <td>1.366859e-03</td>\n",
       "    </tr>\n",
       "    <tr>\n",
       "      <th>4355</th>\n",
       "      <td>0.000262</td>\n",
       "      <td>0.946378</td>\n",
       "      <td>0.053356</td>\n",
       "      <td>7.699838e-10</td>\n",
       "      <td>1.494364e-08</td>\n",
       "      <td>8.183605e-15</td>\n",
       "      <td>6.699484e-12</td>\n",
       "      <td>3.800136e-06</td>\n",
       "      <td>1.639583e-07</td>\n",
       "      <td>1.380501e-08</td>\n",
       "    </tr>\n",
       "  </tbody>\n",
       "</table>\n",
       "<p>4356 rows × 10 columns</p>\n",
       "</div>"
      ],
      "text/plain": [
       "      Disk, Face-on, No Spiral  Smooth, Completely round  \\\n",
       "0                     0.074920                  0.133840   \n",
       "1                     0.002120                  0.901738   \n",
       "2                     0.001759                  0.317907   \n",
       "3                     0.478249                  0.001154   \n",
       "4                     0.196491                  0.003872   \n",
       "...                        ...                       ...   \n",
       "4351                  0.383938                  0.457081   \n",
       "4352                  0.111972                  0.142750   \n",
       "4353                  0.214206                  0.000007   \n",
       "4354                  0.157287                  0.000036   \n",
       "4355                  0.000262                  0.946378   \n",
       "\n",
       "      Smooth, in-between round  Smooth, Cigar shaped  \\\n",
       "0                     0.790954          1.703087e-08   \n",
       "1                     0.096142          3.553454e-10   \n",
       "2                     0.680321          2.489034e-08   \n",
       "3                     0.002316          1.138011e-07   \n",
       "4                     0.000935          2.927170e-11   \n",
       "...                        ...                   ...   \n",
       "4351                  0.158163          2.810125e-09   \n",
       "4352                  0.743391          1.885070e-08   \n",
       "4353                  0.241149          4.017046e-01   \n",
       "4354                  0.823147          4.614718e-04   \n",
       "4355                  0.053356          7.699838e-10   \n",
       "\n",
       "      Disk, Edge-on, Rounded Bulge  Disk, Edge-on, Boxy Bulge  \\\n",
       "0                     1.530999e-05               5.461678e-12   \n",
       "1                     6.319455e-09               2.683784e-16   \n",
       "2                     7.899465e-06               2.248732e-11   \n",
       "3                     8.823412e-08               5.833791e-11   \n",
       "4                     5.595160e-10               1.190102e-13   \n",
       "...                            ...                        ...   \n",
       "4351                  2.665693e-06               2.309524e-12   \n",
       "4352                  2.829329e-06               1.038278e-12   \n",
       "4353                  8.258326e-02               7.173413e-05   \n",
       "4354                  1.680096e-02               2.651289e-07   \n",
       "4355                  1.494364e-08               8.183605e-15   \n",
       "\n",
       "      Disk, Edge-on, No Bulge  Disk, Face-on, Tight Spiral  \\\n",
       "0                5.598874e-11                 5.442812e-05   \n",
       "1                8.943441e-14                 4.290875e-07   \n",
       "2                2.869062e-10                 2.567488e-06   \n",
       "3                2.773890e-08                 5.805314e-02   \n",
       "4                6.493688e-12                 5.462489e-01   \n",
       "...                       ...                          ...   \n",
       "4351             3.514413e-11                 9.612312e-05   \n",
       "4352             9.746236e-11                 1.178247e-03   \n",
       "4353             3.853044e-03                 1.633541e-02   \n",
       "4354             9.024442e-07                 4.453499e-04   \n",
       "4355             6.699484e-12                 3.800136e-06   \n",
       "\n",
       "      Disk, Face-on, Medium Spiral  Disk, Face-on, Loose Spiral  \n",
       "0                     1.196625e-04                 9.660592e-05  \n",
       "1                     1.864768e-07                 1.898203e-07  \n",
       "2                     6.352501e-07                 7.534578e-07  \n",
       "3                     4.097882e-01                 5.044021e-02  \n",
       "4                     2.504210e-01                 2.031843e-03  \n",
       "...                            ...                          ...  \n",
       "4351                  5.192706e-04                 1.999034e-04  \n",
       "4352                  4.287394e-04                 2.774251e-04  \n",
       "4353                  1.100415e-02                 2.908505e-02  \n",
       "4354                  4.541501e-04                 1.366859e-03  \n",
       "4355                  1.639583e-07                 1.380501e-08  \n",
       "\n",
       "[4356 rows x 10 columns]"
      ]
     },
     "execution_count": 19,
     "metadata": {},
     "output_type": "execute_result"
    }
   ],
   "source": [
    "check "
   ]
  },
  {
   "cell_type": "code",
   "execution_count": 52,
   "metadata": {},
   "outputs": [
    {
     "data": {
      "image/png": "[encoded data removed]",
      "text/plain": [
       "<PIL.Image.Image image mode=RGB size=69x69 at 0x1428C1F60>"
      ]
     },
     "execution_count": 52,
     "metadata": {},
     "output_type": "execute_result"
    }
   ],
   "source": [
    "from numpy import asarray\n",
    "# from PIL import Image\n",
    "\n",
    "# convert image to numpy array\n",
    "sample_image = Image.fromarray(images[17429 + 4289])\n",
    "sample_image"
   ]
  },
  {
   "cell_type": "code",
   "execution_count": 50,
   "metadata": {},
   "outputs": [
    {
     "name": "stdout",
     "output_type": "stream",
     "text": [
      "[8]\n"
     ]
    }
   ],
   "source": [
    "img_array = keras.preprocessing.image.img_to_array(sample_image)\n",
    "img_array = tf.expand_dims(img_array, 0) # Create a batch\n",
    "\n",
    "predicted_output = model.predict(img_array)\n",
    "\n",
    "print(np.argmax(predicted_output, axis=1))"
   ]
  },
  {
   "cell_type": "code",
   "execution_count": 22,
   "metadata": {},
   "outputs": [
    {
     "name": "stderr",
     "output_type": "stream",
     "text": [
      "/Users/nvvankad/Documents/Personal/Masters/jupyterEnv/JupyterEnv/lib/python3.7/site-packages/astroNN/datasets/galaxy10.py:144: UserWarning: Matplotlib is currently using module://ipykernel.pylab.backend_inline, which is a non-GUI backend, so cannot show the figure.\n",
      "  fig.show()\n"
     ]
    },
    {
     "data": {
      "image/png": "[encoded data removed]",
      "text/plain": [
       "<Figure size 1000x1050 with 1 Axes>"
      ]
     },
     "metadata": {
      "needs_background": "light"
     },
     "output_type": "display_data"
    }
   ],
   "source": [
    "# Please notice predicted_labels are labels predicted from neural network. test_labels are ground truth from the dataset\n",
    "predicted_labels = model.predict(images[17429:])\n",
    "\n",
    "# Convert predicted_labels to class\n",
    "prediction_class = np.argmax(predicted_labels, axis=1)\n",
    "\n",
    "# Convert test_labels to class\n",
    "test_class = np.argmax(labels[17429:], axis=1)\n",
    "\n",
    "# Prepare a confusion matrix\n",
    "confusion_matrix = np.zeros((10,10))\n",
    "\n",
    "# create the confusion matrix\n",
    "for counter, i in enumerate(prediction_class):\n",
    "    confusion_matrix[i, test_class[counter]] += 1\n",
    "\n",
    "# Plot the confusion matrix\n",
    "galaxy10_confusion(confusion_matrix)"
   ]
  },
  {
   "cell_type": "code",
   "execution_count": 51,
   "metadata": {},
   "outputs": [
    {
     "name": "stdout",
     "output_type": "stream",
     "text": [
      "(array([ 124,  357,  435,  440,  451,  462,  554,  626,  785,  855,  901,\n",
      "       1080, 1223, 1232, 1237, 1360, 1473, 1474, 1478, 1564, 1568, 1576,\n",
      "       1660, 1673, 1701, 1717, 1720, 2063, 2079, 2112, 2424, 2476, 2500,\n",
      "       2565, 2586, 2682, 2764, 2852, 2884, 2916, 2918, 2932, 2964, 3068,\n",
      "       3077, 3222, 3234, 3260, 3285, 3333, 3390, 3422, 3467, 3492, 3763,\n",
      "       4023, 4034, 4037, 4115, 4203, 4237, 4269, 4289, 4327]),)\n"
     ]
    }
   ],
   "source": [
    "# get sample images for different classificatin types\n",
    "type(prediction_class)\n",
    "\n",
    "#add - 17429. To get image from image dataset.\n",
    "print(np.where(prediction_class == 9))"
   ]
  }
 ],
 "metadata": {
  "kernelspec": {
   "display_name": "Python 3",
   "language": "python",
   "name": "python3"
  },
  "language_info": {
   "codemirror_mode": {
    "name": "ipython",
    "version": 3
   },
   "file_extension": ".py",
   "mimetype": "text/x-python",
   "name": "python",
   "nbconvert_exporter": "python",
   "pygments_lexer": "ipython3",
   "version": "3.7.1"
  }
 },
 "nbformat": 4,
 "nbformat_minor": 4
}
